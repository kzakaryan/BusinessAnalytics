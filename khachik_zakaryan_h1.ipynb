{
 "nbformat": 4,
 "nbformat_minor": 0,
 "metadata": {
  "colab": {
   "provenance": []
  },
  "kernelspec": {
   "name": "python3",
   "display_name": "Python 3 (ipykernel)",
   "language": "python"
  },
  "language_info": {
   "name": "python"
  }
 },
 "cells": [
  {
   "cell_type": "markdown",
   "metadata": {
    "id": "sHnBB0p9NLm4"
   },
   "source": [
    "## Task 1.\n",
    "\n",
    "The user enters numbers separated by spaces.\n",
    "\n",
    "Get the list of positive numbers and print it.\n",
    "\n",
    "Input:\n",
    "```\n",
    "-5 4 3 2.5 -1.25\n",
    "```\n",
    "Output:\n",
    "```\n",
    "[4.0, 3.0, 2.5]\n",
    "```\n",
    "\n"
   ]
  },
  {
   "metadata": {},
   "cell_type": "code",
   "source": [
    "def get_positive_numbers() -> None:\n",
    "    \"\"\"\n",
    "    Function to get all positive numbers from given list    :return:  of positive numbers\n",
    "    \"\"\"\n",
    "    arr = input(\"Enter numbers separated by spaces: \").split()\n",
    "    result = [float(val) for val in arr if float(val) > 0]\n",
    "    print(result)\n",
    "\n",
    "get_positive_numbers()"
   ],
   "outputs": [],
   "execution_count": null
  },
  {
   "cell_type": "markdown",
   "metadata": {
    "id": "a8T0sLbIPD0t"
   },
   "source": [
    "## Task 2.\n",
    "\n",
    "The user enters a sentence without any punctuations or symbols. Get all the words and their first letter in an uppercase into a dictionary and print it.\n",
    "\n",
    "Input:\n",
    "```\n",
    "A river cuts through rock not because of its power but because of its persistence\n",
    "```\n",
    "Output:\n",
    "```\n",
    "{'A': 'A', 'river': 'R', 'cuts': 'C', 'through': 'T', 'rock': 'R', 'not': 'N', 'because': 'B', 'of': 'O', 'its': 'I', 'power': 'P', 'but': 'B', 'persistence': 'P'}\n",
    "```\n",
    "\n"
   ]
  },
  {
   "metadata": {},
   "cell_type": "code",
   "source": [
    "\"\"\"\n",
    "Takes a user-input sentence without punctuation, extracts words,\n",
    "and maps each word to its first uppercase letter in a dictionary.\n",
    "\"\"\"\n",
    "def words_with_uppercase() -> None:\n",
    "    \"\"\"\n",
    "    Takes a user-input sentence without punctuation, extracts words, and maps each word to its first uppercase letter in a dictionary.\n",
    "    :return: dict\n",
    "    \"\"\"\n",
    "    sentence = input(\"Enter a sentence without punctuation: \")\n",
    "    result = {word: word[0].upper() for word in sentence.split()}\n",
    "    print(result)\n",
    "\n",
    "words_with_uppercase()"
   ],
   "outputs": [],
   "execution_count": null
  },
  {
   "cell_type": "markdown",
   "metadata": {
    "id": "yaDK0kKzNJmJ"
   },
   "source": [
    "## Task 3.\n",
    "\n",
    "The user enters a positive integer. Generate and print a dictionary, the keys of which will be from 0 to the entered number inclusive, and the values will be the squares of those keys.\n",
    "\n",
    "Input:\n",
    "```\n",
    "5\n",
    "```\n",
    "Output:\n",
    "```\n",
    "{0: 0, 1: 1, 2: 4, 3: 9, 4: 16, 5: 25}\n",
    "```\n",
    "\n"
   ]
  },
  {
   "metadata": {},
   "cell_type": "code",
   "source": [
    "\"\"\"\n",
    "Takes a positive integer from the user and generates a dictionary where keys are numbers from 0 to n (inclusive) and values are their squares.\n",
    "\"\"\"\n",
    "def numbers_and_squares() -> None:\n",
    "    \"\"\"\n",
    "    Takes a positive integer from the user and generates a dictionary where keys are numbers from 0 to n (inclusive) and values are their squares.\n",
    "    :return: dict\n",
    "    \"\"\"\n",
    "    value = int(input(\"Enter the positive number: \"))\n",
    "    result = {num: num ** 2 for num in range(0, value + 1)}\n",
    "    print(result)\n",
    "\n",
    "numbers_and_squares()"
   ],
   "outputs": [],
   "execution_count": null
  },
  {
   "cell_type": "markdown",
   "metadata": {
    "id": "BZS_bCWINIpZ"
   },
   "source": [
    "## Task 4.\n",
    "\n",
    "The user enters two lists of arbitrary numbers separated by spaces. Print the numbers that are present in either first or second list. Do not print duplicate numbers. The structure of the printed data can be arbitrary.\n",
    "\n",
    "Input:\n",
    "```\n",
    "1 2 3 4 5 6 7 8 9 10\n",
    "5 6 7 8 9 10 11 12 13\n",
    "```\n",
    "Output:\n",
    "```\n",
    "1.0 2.0 3.0 4.0 5.0 6.0 7.0 8.0 9.0 10.0 11.0 12.0 13.0\n",
    "```\n",
    "\n"
   ]
  },
  {
   "metadata": {},
   "cell_type": "code",
   "source": [
    "def unique_numbers_from_lists() -> None:\n",
    "    \"\"\"\n",
    "    Takes two space-separated lists of numbers from the user, combines them without duplicates, and prints them as floats.\n",
    "    :return: intersection of lists\n",
    "    \"\"\"\n",
    "    # Using set to avoid duplicates\n",
    "    # Using map to cast integer to float\n",
    "    list1 = set(map(float, input(\"Enter the first list of numbers: \").split())) # First List Input\n",
    "    list2 = set(map(float, input(\"Enter the second list of numbers: \").split())) # Second List Input\n",
    "    result = sorted(list1 | list2) # Intersection of lists\n",
    "    print(result)\n",
    "\n",
    "unique_numbers_from_lists()"
   ],
   "outputs": [],
   "execution_count": null
  },
  {
   "cell_type": "markdown",
   "metadata": {
    "id": "80C391RgNI_R"
   },
   "source": [
    "## Task 5.\n",
    "\n",
    "The user enters a text. The text can contain words, commas and periods. There is a space after every period and comma, except for the last period in the text. Print the number of unique words. Do not consider uppercase and lowercase words to be the same.\n",
    "\n",
    "Input:\n",
    "```\n",
    "Never give in. Never, never, never, never, in nothing great or small, large or petty, never give in except to convictions of honour and good sense. Never yield to force, never yield to the apparently overwhelming might of the enemy.\n",
    "```\n",
    "Output:\n",
    "```\n",
    "25\n",
    "```\n"
   ]
  },
  {
   "metadata": {},
   "cell_type": "code",
   "source": [
    "\"\"\"\n",
    "Takes a user-input text, removes punctuation manually and counts the number of unique words.\n",
    "\"\"\"\n",
    "def count_unique_words() -> None:\n",
    "    \"\"\"\n",
    "    Takes a user-input text, removes punctuation manually and counts the number of unique words.\n",
    "    :return: int - number of unique words\n",
    "    \"\"\"\n",
    "    text = input(\"Enter a text: \")\n",
    "    for char in \".,\":\n",
    "        text = text.replace(char, \"\")  # Remove periods and commas\n",
    "    words = text.split()  # Split into words\n",
    "    unique_words = set(words)  # Using set to get unique number of words\n",
    "    print(len(unique_words)) # Here length of the set shows the number of unique words in the sentence\n",
    "\n",
    "count_unique_words()"
   ],
   "outputs": [],
   "execution_count": null
  },
  {
   "cell_type": "markdown",
   "metadata": {
    "id": "tZfexXSnNHuh"
   },
   "source": [
    "## Task 6.\n",
    "Given a dataset containing transactional data with the following fields in the specified order: first name, last name, amount spent, and business code (merchand_id).\n",
    "\n",
    "Print a dictionary where the business codes are the keys, and the values are the total amounts spent at each business. The solution should work for any list of similar structure.\n",
    "```\n",
    "transactions = [\n",
    "  ('Karapet', 'Karapetyan', 11000, 'pandok'),\n",
    "  ('Karapet', 'Karapetyan', 13700, 'zangakbookstore'),\n",
    "  ('Karapet', 'Karapetyan', 7200, 'pandok'),\n",
    "  ('Karapet', 'Karapetyan', 10900, 'zangakbookstore'),\n",
    "  ('Karapet', 'Karapetyan', 7450, 'sassupermarket'),\n",
    "  ('Karapet', 'Karapetyan', 5000, 'sassupermarket'),\n",
    "  ('Karapet', 'Karapetyan', 4500, 'pandok'),\n",
    "  ('Karapet', 'Karapetyan', 2800, 'sassupermarket'),\n",
    "  ('Karapet', 'Karapetyan', 9430, 'sassupermarket'),\n",
    "  ('Karapet', 'Karapetyan', 1700, 'pandok'),\n",
    "]\n",
    "\n",
    "```\n",
    "Output\n",
    "```\n",
    "{'pandok': 24400, 'zangakbookstore': 24600, 'sassupermarket': 24680}\n",
    "```\n",
    "\n"
   ]
  },
  {
   "metadata": {},
   "cell_type": "code",
   "source": [
    "transactions = [\n",
    "  ('Karapet', 'Karapetyan', 11000, 'pandok'),\n",
    "  ('Karapet', 'Karapetyan', 13700, 'zangakbookstore'),\n",
    "  ('Karapet', 'Karapetyan', 7200, 'pandok'),\n",
    "  ('Karapet', 'Karapetyan', 10900, 'zangakbookstore'),\n",
    "  ('Karapet', 'Karapetyan', 7450, 'sassupermarket'),\n",
    "  ('Karapet', 'Karapetyan', 5000, 'sassupermarket'),\n",
    "  ('Karapet', 'Karapetyan', 4500, 'pandok'),\n",
    "  ('Karapet', 'Karapetyan', 2800, 'sassupermarket'),\n",
    "  ('Karapet', 'Karapetyan', 9430, 'sassupermarket'),\n",
    "  ('Karapet', 'Karapetyan', 1700, 'pandok'),\n",
    "]\n",
    "\n",
    "def tuple_to_dictionary(arr) -> None:\n",
    "    \"\"\"\n",
    "    Takes a list of tuples and prints them as dictionary with some changes.\n",
    "    :param arr: list of tuples\n",
    "    :return: dict\n",
    "    \"\"\"\n",
    "    result = {} # For final result\n",
    "    for val in arr: # Iterating through given list of tuples\n",
    "        if val[-1] not in result.keys(): # Checking presence of last element of tuple in result dictionary\n",
    "            result[val[-1]] = val[2] # if not present adding it\n",
    "        else:\n",
    "            result[val[-1]] += val[2] # If present adding value to present value\n",
    "    print(result) # Printing the result\n",
    "\n",
    "tuple_to_dictionary(transactions)"
   ],
   "outputs": [],
   "execution_count": null
  },
  {
   "cell_type": "markdown",
   "source": [
    "## Task 7.\n",
    "\n",
    "Given the following data about products and their prices in different months.\n",
    "\n",
    "*  Create and print a dictionary with the product names as keys and their average price over the months as values.\n",
    "* Identify and print products that have only increased over time.\n",
    "\n",
    "\n",
    "```\n",
    "product_data = [\n",
    "    {'product': 'Laptop', 'prices': [1200, 1300, 1150, 1400, 1350, 1250, 1275, 1300, 1250, 1400, 1380, 1450]},\n",
    "    {'product': 'Smartphone', 'prices': [800, 850, 780, 900, 870, 890, 910, 920, 950, 980, 960, 940]},\n",
    "    {'product': 'Tablet', 'prices': [400, 430, 415, 450, 420, 430, 445, 440, 460, 475, 470, 480]},\n",
    "    {'product': 'Headphones', 'prices': [150, 160, 155, 165, 170, 180, 190, 200, 195, 205, 210, 220]},\n",
    "    {'product': 'Smartwatch', 'prices': [200, 220, 210, 230, 215, 205, 200, 210, 220, 225, 230, 215]},\n",
    "]\n",
    "```\n",
    "\n",
    "output\n",
    "\n",
    "\n",
    "```\n",
    "{'Laptop': 1308.75, 'Smartphone': 895.8333333333334, 'Tablet': 442.9166666666667, 'Headphones': 183.33333333333334, 'Smartwatch': 234.0}\n",
    "Products with only increased prices:\n",
    "['Smartwatch']\n",
    "\n",
    "```\n",
    "\n"
   ],
   "metadata": {
    "id": "KF6_FuPSnxYJ"
   }
  },
  {
   "metadata": {},
   "cell_type": "code",
   "source": [
    "product_data = [\n",
    "    {'product': 'Laptop', 'prices': [1200, 1300, 1150, 1400, 1350, 1250, 1275, 1300, 1250, 1400, 1380, 1450]},\n",
    "    {'product': 'Smartphone', 'prices': [800, 850, 780, 900, 870, 890, 910, 920, 950, 980, 960, 940]},\n",
    "    {'product': 'Tablet', 'prices': [400, 430, 415, 450, 420, 430, 445, 440, 460, 475, 470, 480]},\n",
    "    {'product': 'Headphones', 'prices': [150, 160, 162, 165, 170, 180, 190, 200, 201, 205, 210, 220]},\n",
    "    {'product': 'Smartwatch', 'prices': [200, 220, 210, 230, 215, 205, 200, 210, 220, 225, 230, 215]},\n",
    "]\n",
    "\n",
    "def products_and_prices(arr) -> None:\n",
    "    \"\"\"\n",
    "    Takes a list of tuples and prints them as dictionary with some changes.\n",
    "    :param arr: list of tuples\n",
    "    :return: dict\n",
    "    \"\"\"\n",
    "    result = {} # Placeholder for final dictionary\n",
    "    increasing_prods = [] # Placeholder for products with increased price over time\n",
    "\n",
    "    for val in arr: # Loop for identification of a product with increased price\n",
    "        mean = 0 # At the same time calculating mean\n",
    "        price_prev = 0 # Placeholder for comparing price\n",
    "        flag = False # Flag for understanding if the price increased over time or not\n",
    "\n",
    "        for price in val['prices']: # Loop for calculating the mean\n",
    "            mean += price\n",
    "            if price < price_prev: # While iteration checking price increase\n",
    "                flag = True\n",
    "            price_prev = price\n",
    "        if not flag: # If price is not increased over time then the product is not appended into our list\n",
    "            increasing_prods.append(val['product'])\n",
    "\n",
    "        result[val['product']] = mean / len(val['prices']) # Creating dictionary with means of prices\n",
    "\n",
    "    print(f\"{result} \\n Products with only increased prices: \\n {increasing_prods}\") # Printing results\n",
    "\n",
    "products_and_prices(product_data)"
   ],
   "outputs": [],
   "execution_count": null
  },
  {
   "cell_type": "markdown",
   "metadata": {
    "id": "OPrOMs3gNKBp"
   },
   "source": [
    "## Task 8.\n",
    "\n",
    "Write a reverse_words function that takes a string as input and returns a new string where each word is reversed, but the word order remains unchanged. Ignore spaces at the beginning and end. The user enters arbitrary text with uppercase and lowercase letters. Print the response of the function.\n",
    "\n",
    "Input:\n",
    "```\n",
    "Hello world\n",
    "```\n",
    "Output:\n",
    "```\n",
    "olleH dlrow\n",
    "```\n",
    "Input:\n",
    "```\n",
    "Python is fun\n",
    "```\n",
    "Output:\n",
    "```\n",
    "nohtyP si nuf\n",
    "```\n"
   ]
  },
  {
   "metadata": {},
   "cell_type": "code",
   "source": [
    "def reverse_words(text):\n",
    "    \"\"\"\n",
    "    Reverses each word in the given text while keeping the word order unchanged. Uses a stack to reverse words.\n",
    "    :param text: string to be reversed\n",
    "    :return: reversed string\n",
    "    \"\"\"\n",
    "    words = text.strip().split() # Removes spaces before/after sentence\n",
    "    # Adds each letter to the stack data structure and then pops it back to get reversed word\n",
    "    return \" \".join(\"\".join(reversed(word)) for word in words)\n",
    "\n",
    "user_input = input(\"Enter a sentence: \")\n",
    "print(reverse_words(user_input))"
   ],
   "outputs": [],
   "execution_count": null
  },
  {
   "cell_type": "markdown",
   "metadata": {
    "id": "f1_KSvujNK4p"
   },
   "source": [
    "## Task 9.\n",
    "\n",
    "Write a function `check_favorite_book` that takes three parameters: `student_name`, `book_title`, and `year_published`. Compare them with your student name, your favorite book title, and year. The function should return `True` if all three match and `False` otherwise.\n",
    "\n",
    "If the user leaves the `year_published` field empty, the function should be called without that field. The function should have `2025` as the default value for the `year_published` field.\n",
    "\n",
    "Get three inputs from the user (`Student Name`, `Book Title`, `Year Published`) and return `True` if there is a match and `False` otherwise using the function you wrote. Print the returned value of the function.\n",
    "\n",
    "Input:\n",
    "```\n",
    "Karapet\n",
    "The Hard Thing About Hard Things\n",
    "2014\n",
    "```\n",
    "Output:\n",
    "```\n",
    "True\n",
    "```\n",
    "\n"
   ]
  },
  {
   "metadata": {},
   "cell_type": "code",
   "source": [
    "def compare_input(student_name, book_name, year_published) -> bool:\n",
    "    \"\"\"\n",
    "    Get three inputs from the user (`Student Name`, `Book Title`, `Year Published`) and return `True` if there is a match and `False` otherwise using the function you wrote. Print the returned value of the function.\n",
    "    :param student_name: string\n",
    "    :param book_name: string\n",
    "    :param year_published: string\n",
    "    :return: bool\n",
    "    \"\"\"\n",
    "    year_published = str(2025) if not year_published else year_published\n",
    "    return student_name == \"Khachik\" and book_name == \"Data Structures and the Java Collections Framework\" and year_published == str(2011)\n",
    "\n",
    "student_name = input(\"Enter a name: \").strip()\n",
    "book_name  = input(\"Enter a book title: \").strip()\n",
    "year_published  = input(\"Enter the year published: \").strip()\n",
    "print(compare_input(student_name, book_name, year_published))"
   ],
   "outputs": [],
   "execution_count": null
  },
  {
   "cell_type": "markdown",
   "metadata": {
    "id": "DaGFntgN8_1B"
   },
   "source": [
    "## Task 10.\n",
    "The user enters arbitrary text. Create a file and write the following information:\n",
    "\n",
    "On the first line, write the number of words that contain at least one uppercase letter, followed by the words, separated by spaces.\n",
    "On the second line, write the number of words that contain all lowercase letters, followed by those words, separated by spaces.\n",
    "\n",
    "\n",
    "Input\n",
    "\n",
    "\n",
    "```\n",
    "This is a Simple Example of Mixed Case Words\n",
    "```\n",
    "\n",
    "\n",
    "\n",
    "\n",
    "File output\n",
    "\n",
    "```\n",
    "6 This Simple Example Mixed Case Words\n",
    "3 is a of\n",
    "```\n",
    "\n"
   ]
  },
  {
   "metadata": {
    "ExecuteTime": {
     "end_time": "2025-02-17T10:14:36.926914Z",
     "start_time": "2025-02-17T10:14:20.312652Z"
    }
   },
   "cell_type": "code",
   "source": [
    "def process_text_and_write_to_file() -> None:\n",
    "    \"\"\"\n",
    "    Function to process text and write to file.\n",
    "    :return: output.txt file with modifications\n",
    "    \"\"\"\n",
    "    text = input(\"Enter a sentence: \").strip().split()\n",
    "\n",
    "    u_words = [word for word in text if any(c.isupper() for c in word)]\n",
    "    l_words = [word for word in text if word.islower()]\n",
    "\n",
    "    with open(\"output.txt\", \"w\") as file:\n",
    "        file.write(f\"{len(u_words)} {' '.join(u_words)}\\n\")\n",
    "        file.write(f\"{len(l_words)} {' '.join(l_words)}\\n\")\n",
    "\n",
    "process_text_and_write_to_file()"
   ],
   "outputs": [],
   "execution_count": 25
  }
 ]
}
